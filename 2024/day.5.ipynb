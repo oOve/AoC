{
 "cells": [
  {
   "cell_type": "code",
   "execution_count": 2,
   "metadata": {},
   "outputs": [],
   "source": [
    "import pandas as pd\n",
    "import numpy as np\n",
    "import re"
   ]
  },
  {
   "cell_type": "code",
   "execution_count": 3,
   "metadata": {},
   "outputs": [],
   "source": [
    "import aocd\n",
    "import os\n",
    "from functools import reduce\n",
    "\n",
    "session=open(\"secret.session\").read()\n",
    "os.environ[\"AOC_SESSION\"] = session\n",
    "data = aocd.get_data(day=5,year=2024)\n",
    "\n",
    "rules_t = data[:data.find('\\n\\n')]\n",
    "pages_t = data[data.find('\\n\\n')+2:]\n",
    "\n",
    "rules = [(int(u),int(v)) for u,v in re.findall(r'(\\d+)\\|(\\d+)',data)]\n",
    "pages = [[int(v) for v in l.split(',')] for l in pages_t.splitlines()]\n",
    "\n",
    "# All page_sets are odd\n",
    "# all([len(p)%2 for p in pages])\n"
   ]
  },
  {
   "cell_type": "code",
   "execution_count": 4,
   "metadata": {},
   "outputs": [
    {
     "data": {
      "text/plain": [
       "5964"
      ]
     },
     "execution_count": 4,
     "metadata": {},
     "output_type": "execute_result"
    }
   ],
   "source": [
    "# Part 1\n",
    "def before(ps,p1,p2):\n",
    "    return ps.index(p1)<ps.index(p2)\n",
    "\n",
    "middle_sum = 0\n",
    "\n",
    "for page_set in pages:\n",
    "    ps = set(page_set)\n",
    "    correct_order=True\n",
    "    for r1,r2 in rules:\n",
    "        if r1 in ps and r2 in ps:\n",
    "            correct_order &= before(page_set,r1,r2)\n",
    "    if correct_order:\n",
    "        middle = page_set[int(len(ps)/2)]\n",
    "        middle_sum+=middle\n",
    "\n",
    "middle_sum"
   ]
  },
  {
   "cell_type": "code",
   "execution_count": 5,
   "metadata": {},
   "outputs": [
    {
     "data": {
      "text/plain": [
       "4719"
      ]
     },
     "execution_count": 5,
     "metadata": {},
     "output_type": "execute_result"
    }
   ],
   "source": [
    "# Part 2\n",
    "\n",
    "# (old school -1,0,1 compare to new style)\n",
    "from functools import cmp_to_key\n",
    "\n",
    "\n",
    "def before(ps,p1,p2):\n",
    "    '''Is p1 before p2 in the page list ps'''\n",
    "    return ps.index(p1)<ps.index(p2)\n",
    "\n",
    "def correct_order(page_set, rules):\n",
    "    '''Are all pages in page set in the correct order according to rules'''\n",
    "    correct_order=True\n",
    "    ps = set(page_set)\n",
    "    for r1,r2 in rules:\n",
    "        if r1 in ps and r2 in ps:\n",
    "            # There exist a rule containing two elements in this page list\n",
    "            # Check if their order matches\n",
    "            correct_order &= before(page_set,r1,r2)\n",
    "    return correct_order\n",
    "\n",
    "ranks = {}\n",
    "for r1,r2 in rules:\n",
    "    ranks[(r1,r2)] = -1\n",
    "    ranks[(r2,r1)] = 1\n",
    "\n",
    "def rank(x,y):\n",
    "    if (x,y) in ranks:\n",
    "        return ranks[(x,y)]\n",
    "    else: \n",
    "        return 0\n",
    "\n",
    "middle_sum = 0\n",
    "\n",
    "for page_set in pages:\n",
    "    if not correct_order(page_set,rules):\n",
    "        c = sorted(page_set,key=cmp_to_key(rank))\n",
    "        middle=c[int(len(c)/2)]\n",
    "        middle_sum+=middle\n",
    "\n",
    "middle_sum"
   ]
  },
  {
   "cell_type": "code",
   "execution_count": null,
   "metadata": {},
   "outputs": [],
   "source": []
  }
 ],
 "metadata": {
  "kernelspec": {
   "display_name": "Python 3",
   "language": "python",
   "name": "python3"
  },
  "language_info": {
   "codemirror_mode": {
    "name": "ipython",
    "version": 3
   },
   "file_extension": ".py",
   "mimetype": "text/x-python",
   "name": "python",
   "nbconvert_exporter": "python",
   "pygments_lexer": "ipython3",
   "version": "3.12.0"
  }
 },
 "nbformat": 4,
 "nbformat_minor": 2
}
