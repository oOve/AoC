{
 "cells": [
  {
   "cell_type": "code",
   "execution_count": 1,
   "metadata": {},
   "outputs": [],
   "source": [
    "import pandas as pd\n",
    "import numpy as np"
   ]
  },
  {
   "cell_type": "code",
   "execution_count": 3,
   "metadata": {},
   "outputs": [],
   "source": [
    "import aocd\n",
    "import os\n",
    "from functools import reduce\n",
    "\n",
    "session=open(\"secret.session\").read()\n",
    "os.environ[\"AOC_SESSION\"] = session\n",
    "data = aocd.get_data(day=2,year=2024)\n",
    "\n",
    "digits = [x.split() for x in data.splitlines()]\n"
   ]
  },
  {
   "cell_type": "code",
   "execution_count": 21,
   "metadata": {},
   "outputs": [
    {
     "data": {
      "text/plain": [
       "660"
      ]
     },
     "execution_count": 21,
     "metadata": {},
     "output_type": "execute_result"
    }
   ],
   "source": [
    "# Part 1\n",
    "\n",
    "safe_levels = 0\n",
    "\n",
    "def is_safe(l):\n",
    "    diff = l[:-1] - l[1:]\n",
    "    # Rule 1\n",
    "    increasing = np.all( diff > 0 )\n",
    "    decreasing = np.all( diff < 0 )\n",
    "    if not (increasing or decreasing):\n",
    "        return False\n",
    "    # Rule 2\n",
    "    if not np.all((abs(diff)>0) & (abs(diff)<4)):\n",
    "        return False\n",
    "    return True\n",
    "\n",
    "\n",
    "for line in digits:\n",
    "    l = np.asarray(line).astype(int)\n",
    "    safe_levels += is_safe(l)\n",
    "\n",
    "safe_levels"
   ]
  },
  {
   "cell_type": "code",
   "execution_count": 23,
   "metadata": {},
   "outputs": [
    {
     "data": {
      "text/plain": [
       "689"
      ]
     },
     "execution_count": 23,
     "metadata": {},
     "output_type": "execute_result"
    }
   ],
   "source": [
    "# Part 2\n",
    "\n",
    "safe_levels = 0\n",
    "\n",
    "def all_but_one(a):\n",
    "    return np.count_nonzero(a) >= (len(a)-1)\n",
    "\n",
    "for line in digits:\n",
    "    l = np.asarray(line).astype(int)\n",
    "    safes = []\n",
    "    for i in range(len(l)):\n",
    "        safes.append(is_safe(l[np.arange(len(l))!=i]))\n",
    "    safes.append(is_safe(l))\n",
    "\n",
    "    safe_levels += np.any(safes)\n",
    "\n",
    "safe_levels"
   ]
  },
  {
   "cell_type": "code",
   "execution_count": null,
   "metadata": {},
   "outputs": [],
   "source": []
  }
 ],
 "metadata": {
  "kernelspec": {
   "display_name": "Python 3",
   "language": "python",
   "name": "python3"
  },
  "language_info": {
   "codemirror_mode": {
    "name": "ipython",
    "version": 3
   },
   "file_extension": ".py",
   "mimetype": "text/x-python",
   "name": "python",
   "nbconvert_exporter": "python",
   "pygments_lexer": "ipython3",
   "version": "3.12.0"
  }
 },
 "nbformat": 4,
 "nbformat_minor": 2
}
