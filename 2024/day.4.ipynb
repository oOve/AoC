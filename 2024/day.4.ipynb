{
 "cells": [
  {
   "cell_type": "code",
   "execution_count": 3,
   "metadata": {},
   "outputs": [],
   "source": [
    "import pandas as pd\n",
    "import numpy as np\n",
    "import re"
   ]
  },
  {
   "cell_type": "code",
   "execution_count": 1,
   "metadata": {},
   "outputs": [],
   "source": [
    "import aocd\n",
    "import os\n",
    "from functools import reduce\n",
    "\n",
    "session=open(\"secret.session\").read()\n",
    "os.environ[\"AOC_SESSION\"] = session\n",
    "data = aocd.get_data(day=4,year=2024)\n",
    "\n",
    "\n",
    "test_data = '''MMMSXXMASM\n",
    "MSAMXMSMSA\n",
    "AMXSXMAAMM\n",
    "MSAMASMSMX\n",
    "XMASAMXAMM\n",
    "XXAMMXXAMA\n",
    "SMSMSASXSS\n",
    "SAXAMASAAA\n",
    "MAMMMXMMMM\n",
    "MXMXAXMASX'''"
   ]
  },
  {
   "cell_type": "code",
   "execution_count": 4,
   "metadata": {},
   "outputs": [],
   "source": [
    "string_length = data.find('\\n')\n",
    "\n",
    "def transpose(s):\n",
    "    a = np.asarray([list(l) for l in s]).T.astype(str)\n",
    "    return [ ''.join(a[i]) for i in range(len(a)) ]\n",
    "\n",
    "def diagonal_down(lines):\n",
    "    return ['.'*u + s + '.'*(string_length-u-1) for u,s in enumerate(lines)]\n",
    "def diagonal_up(lines):\n",
    "    return ['.'*(string_length-u-1) + s + '.'*u for u,s in enumerate(lines)]\n",
    "\n",
    "\n",
    "horizontal = data.splitlines()\n",
    "# Transpose text file to search downwards\n",
    "vertical   = transpose(horizontal)\n",
    "\n",
    "# Shift diagonal, then transpose to search along diagonals\n",
    "diagonal_down = transpose(diagonal_down(horizontal))\n",
    "diagonal_up   = transpose(diagonal_up(vertical))"
   ]
  },
  {
   "cell_type": "code",
   "execution_count": 6,
   "metadata": {},
   "outputs": [
    {
     "data": {
      "text/plain": [
       "2504"
      ]
     },
     "execution_count": 6,
     "metadata": {},
     "output_type": "execute_result"
    }
   ],
   "source": [
    "\n",
    "# Part 1\n",
    "result = 0\n",
    "\n",
    "def find_in(a):\n",
    "    s='\\n'.join(a)\n",
    "    return len(re.findall('XMAS', s))  + len(re.findall('SAMX', s))\n",
    "\n",
    "result += find_in(horizontal)\n",
    "result += find_in(vertical)\n",
    "result += find_in(diagonal_down)\n",
    "result += find_in(diagonal_up)\n",
    "\n",
    "result"
   ]
  },
  {
   "cell_type": "code",
   "execution_count": 7,
   "metadata": {},
   "outputs": [
    {
     "data": {
      "text/plain": [
       "1923"
      ]
     },
     "execution_count": 7,
     "metadata": {},
     "output_type": "execute_result"
    }
   ],
   "source": [
    "# Part 2\n",
    "\n",
    "patterns = [\n",
    "    # The four different permutations of SAM in an X\n",
    "    [['M', '.', 'S'], ['.', 'A', '.'], ['M', '.', 'S']],\n",
    "    [['M', '.', 'M'], ['.', 'A', '.'], ['S', '.', 'S']],\n",
    "    [['S', '.', 'S'], ['.', 'A', '.'], ['M', '.', 'M']],\n",
    "    [['S', '.', 'M'], ['.', 'A', '.'], ['S', '.', 'M']]]\n",
    "\n",
    "\n",
    "def test(p, d):\n",
    "    match = True\n",
    "    for v in range(len(p)):\n",
    "        for u in range(len(p[v])):\n",
    "            if p[v][u]!='.' and p[v][u] != d[v][u]:\n",
    "                match=False\n",
    "    return match  \n",
    "\n",
    "matches = 0\n",
    "data_mat = [list(l) for l in data.splitlines()]\n",
    "data_mat = np.asarray(data_mat)\n",
    "for v in range(len(data_mat)-2):\n",
    "    for u in range(len(data_mat[v])-2):\n",
    "        for p in patterns:\n",
    "            matches+=test(p, data_mat[v:v+3,u:u+3])\n",
    "                    \n",
    "matches\n"
   ]
  },
  {
   "cell_type": "code",
   "execution_count": null,
   "metadata": {},
   "outputs": [],
   "source": []
  }
 ],
 "metadata": {
  "kernelspec": {
   "display_name": "Python 3",
   "language": "python",
   "name": "python3"
  },
  "language_info": {
   "codemirror_mode": {
    "name": "ipython",
    "version": 3
   },
   "file_extension": ".py",
   "mimetype": "text/x-python",
   "name": "python",
   "nbconvert_exporter": "python",
   "pygments_lexer": "ipython3",
   "version": "3.12.0"
  }
 },
 "nbformat": 4,
 "nbformat_minor": 2
}
