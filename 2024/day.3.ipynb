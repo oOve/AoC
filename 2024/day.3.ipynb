{
 "cells": [
  {
   "cell_type": "code",
   "execution_count": 1,
   "metadata": {},
   "outputs": [],
   "source": [
    "import pandas as pd\n",
    "import numpy as np"
   ]
  },
  {
   "cell_type": "code",
   "execution_count": 2,
   "metadata": {},
   "outputs": [],
   "source": [
    "import aocd\n",
    "import os\n",
    "from functools import reduce\n",
    "\n",
    "session=open(\"secret.session\").read()\n",
    "os.environ[\"AOC_SESSION\"] = session\n",
    "data = aocd.get_data(day=3,year=2024)\n"
   ]
  },
  {
   "cell_type": "code",
   "execution_count": 3,
   "metadata": {},
   "outputs": [
    {
     "data": {
      "text/plain": [
       "155955228"
      ]
     },
     "execution_count": 3,
     "metadata": {},
     "output_type": "execute_result"
    }
   ],
   "source": [
    "# Part 1\n",
    "import re\n",
    "\n",
    "matches = re.findall(r\"mul\\((\\d+),(\\d+)\\)\", data)\n",
    "\n",
    "result = 0\n",
    "for l1,l2 in matches:\n",
    "    result += int(l1)*int(l2)\n",
    "\n",
    "result\n"
   ]
  },
  {
   "cell_type": "code",
   "execution_count": 4,
   "metadata": {},
   "outputs": [
    {
     "data": {
      "text/plain": [
       "100189366"
      ]
     },
     "execution_count": 4,
     "metadata": {},
     "output_type": "execute_result"
    }
   ],
   "source": [
    "# Part 2\n",
    "\n",
    "pattern = re.compile(r\"(?P<mul>mul\\((\\d+),(\\d+)\\))|(?P<do>do\\(\\))|(?P<dont>don't\\(\\))\")\n",
    "\n",
    "enabled = True\n",
    "result = 0\n",
    "\n",
    "for match in pattern.finditer(data):\n",
    "    if match.group(\"do\"):\n",
    "        enabled=True\n",
    "    elif match.group('dont'):\n",
    "        enabled = False\n",
    "    elif match.group('mul') and enabled:\n",
    "        result+= int(match[2])*int(match[3])\n",
    "\n",
    "\n",
    "result"
   ]
  },
  {
   "cell_type": "markdown",
   "metadata": {},
   "source": [
    "![regexp](https://imgs.xkcd.com/comics/regular_expressions.png)"
   ]
  }
 ],
 "metadata": {
  "kernelspec": {
   "display_name": "Python 3",
   "language": "python",
   "name": "python3"
  },
  "language_info": {
   "codemirror_mode": {
    "name": "ipython",
    "version": 3
   },
   "file_extension": ".py",
   "mimetype": "text/x-python",
   "name": "python",
   "nbconvert_exporter": "python",
   "pygments_lexer": "ipython3",
   "version": "3.12.0"
  }
 },
 "nbformat": 4,
 "nbformat_minor": 2
}
