{
 "cells": [
  {
   "cell_type": "code",
   "execution_count": 1,
   "metadata": {},
   "outputs": [],
   "source": [
    "import pandas as pd\n",
    "import numpy as np\n",
    "import re\n",
    "from IPython.display import display_html, clear_output\n",
    "import time"
   ]
  },
  {
   "cell_type": "code",
   "execution_count": 2,
   "metadata": {},
   "outputs": [],
   "source": [
    "import aocd\n",
    "import os\n",
    "from functools import reduce\n",
    "\n",
    "session=open(\"secret.session\").read()\n",
    "os.environ[\"AOC_SESSION\"] = session\n",
    "data = aocd.get_data(day=7,year=2024)"
   ]
  },
  {
   "cell_type": "code",
   "execution_count": 17,
   "metadata": {},
   "outputs": [
    {
     "name": "stdout",
     "output_type": "stream",
     "text": [
      "56083790: 93 7 89 932 67 58 5\n",
      "1607: 107 43 7 81 19\n",
      "751931197720: 6 8 533 3 9 6 933 2 60 2\n",
      "34649: 1 7 859 4 9\n",
      "3125401: 62 456 52 5 1\n",
      "7547: 94 283 461 9 3\n",
      "55789: 2 253 3 4 26 8 1 4 3 2 3 7\n",
      "67811: 1 587 \n"
     ]
    }
   ],
   "source": [
    "print(data[:200])\n",
    "\n",
    "targets=[]\n",
    "\n",
    "targets = [int(d[:d.find(':')]) for d in data.splitlines()]\n",
    "numbers = [[int(d) for d in l[l.find(':')+1:].split()] for l in data.splitlines()]\n"
   ]
  },
  {
   "cell_type": "code",
   "execution_count": 28,
   "metadata": {},
   "outputs": [
    {
     "data": {
      "text/plain": [
       "5702958180383"
      ]
     },
     "execution_count": 28,
     "metadata": {},
     "output_type": "execute_result"
    }
   ],
   "source": [
    "# Part 1\n",
    "\n",
    "def evaluate(target, rest, val=None):\n",
    "    if val!=None:\n",
    "        if len(rest)==0:\n",
    "            return val==target\n",
    "        elif val>target:\n",
    "            return False\n",
    "    \n",
    "    add = evaluate(target, rest[1:], (0 if val==None else val)+rest[0])\n",
    "    if add:\n",
    "        return True\n",
    "    else:\n",
    "        return evaluate(target, rest[1:], (1 if val==None else val)*rest[0])\n",
    "\n",
    "ssum = 0\n",
    "for i in range(len(targets)):\n",
    "    if evaluate(targets[i], numbers[i]):\n",
    "        ssum+=targets[i]\n",
    "\n",
    "ssum"
   ]
  },
  {
   "cell_type": "code",
   "execution_count": 75,
   "metadata": {},
   "outputs": [
    {
     "data": {
      "text/plain": [
       "23710110876703"
      ]
     },
     "execution_count": 75,
     "metadata": {},
     "output_type": "execute_result"
    }
   ],
   "source": [
    "# Part 2\n",
    "\n",
    "def ev(target, rest, val=None, indent=''):\n",
    "    #print(indent+str(val),rest)\n",
    "\n",
    "    if val!=None:\n",
    "        if len(rest)==0:\n",
    "            return val==target\n",
    "        elif val>target:\n",
    "            return False\n",
    "\n",
    "    if ev(target, rest[1:], (0 if val==None else val)+rest[0],indent=indent+'+'):\n",
    "        return True\n",
    "    if ev(target, rest[1:], (1 if val==None else val)*rest[0],indent=indent+'*'):\n",
    "        return True\n",
    "    if len(rest)<1:\n",
    "        return False\n",
    "    return ev(target, rest[1:], int(str('' if val==None else val) + str(rest[0])), indent=indent+'|')\n",
    "    \n",
    "\n",
    "ssum = 0\n",
    "for i in range(len(targets)):\n",
    "    if ev(targets[i], numbers[i]):\n",
    "        ssum+=targets[i]\n",
    "ssum\n"
   ]
  },
  {
   "cell_type": "code",
   "execution_count": 119,
   "metadata": {},
   "outputs": [
    {
     "data": {
      "text/plain": [
       "11387"
      ]
     },
     "execution_count": 119,
     "metadata": {},
     "output_type": "execute_result"
    }
   ],
   "source": [
    "# TEST DATA\n",
    "td = '''190: 10 19\n",
    "3267: 81 40 27\n",
    "83: 17 5\n",
    "156: 15 6\n",
    "7290: 6 8 6 15\n",
    "161011: 16 10 13\n",
    "192: 17 8 14\n",
    "21037: 9 7 18 13\n",
    "292: 11 6 16 20'''\n",
    "t_targets = [int(d[:d.find(':')]) for d in td.splitlines()]\n",
    "t_numbers = [[int(d) for d in l[l.find(':')+1:].split()] for l in td.splitlines()]\n",
    "\n",
    "ssum = 0\n",
    "for i in range(len(t_targets)):\n",
    "    if ev(t_targets[i], t_numbers[i]):\n",
    "        ssum+=t_targets[i]\n",
    "ssum"
   ]
  },
  {
   "cell_type": "code",
   "execution_count": null,
   "metadata": {},
   "outputs": [],
   "source": []
  }
 ],
 "metadata": {
  "kernelspec": {
   "display_name": "Python 3",
   "language": "python",
   "name": "python3"
  },
  "language_info": {
   "codemirror_mode": {
    "name": "ipython",
    "version": 3
   },
   "file_extension": ".py",
   "mimetype": "text/x-python",
   "name": "python",
   "nbconvert_exporter": "python",
   "pygments_lexer": "ipython3",
   "version": "3.12.0"
  }
 },
 "nbformat": 4,
 "nbformat_minor": 2
}
