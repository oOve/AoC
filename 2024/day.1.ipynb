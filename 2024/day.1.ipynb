{
 "cells": [
  {
   "cell_type": "code",
   "execution_count": 5,
   "metadata": {},
   "outputs": [
    {
     "name": "stdout",
     "output_type": "stream",
     "text": [
      "Defaulting to user installation because normal site-packages is not writeable\n",
      "Requirement already satisfied: advent-of-code-data in c:\\users\\ove\\appdata\\roaming\\python\\python312\\site-packages (2.0.1)\n",
      "Requirement already satisfied: beautifulsoup4 in c:\\users\\ove\\appdata\\roaming\\python\\python312\\site-packages (from advent-of-code-data) (4.12.2)\n",
      "Requirement already satisfied: pebble in c:\\users\\ove\\appdata\\roaming\\python\\python312\\site-packages (from advent-of-code-data) (5.0.4)\n",
      "Requirement already satisfied: urllib3 in c:\\users\\ove\\appdata\\roaming\\python\\python312\\site-packages (from advent-of-code-data) (2.1.0)\n",
      "Requirement already satisfied: aocd-example-parser>=2023.2 in c:\\users\\ove\\appdata\\roaming\\python\\python312\\site-packages (from advent-of-code-data) (2023.2)\n",
      "Requirement already satisfied: tzdata in c:\\users\\ove\\appdata\\roaming\\python\\python312\\site-packages (from advent-of-code-data) (2023.3)\n",
      "Requirement already satisfied: soupsieve>1.2 in c:\\users\\ove\\appdata\\roaming\\python\\python312\\site-packages (from beautifulsoup4->advent-of-code-data) (2.5)\n"
     ]
    }
   ],
   "source": [
    "# !pip install advent-of-code-data"
   ]
  },
  {
   "cell_type": "code",
   "execution_count": 20,
   "metadata": {},
   "outputs": [],
   "source": [
    "import pandas as pd\n",
    "import numpy as np"
   ]
  },
  {
   "cell_type": "code",
   "execution_count": 43,
   "metadata": {},
   "outputs": [],
   "source": [
    "import aocd\n",
    "import os\n",
    "from functools import reduce\n",
    "\n",
    "session=open(\"secret.session\").read()\n",
    "os.environ[\"AOC_SESSION\"] = session\n",
    "data = aocd.get_data(day=1,year=2024)\n",
    "\n",
    "digits = [x.split() for x in data.splitlines()]\n"
   ]
  },
  {
   "cell_type": "code",
   "execution_count": 34,
   "metadata": {},
   "outputs": [
    {
     "data": {
      "text/plain": [
       "2815556"
      ]
     },
     "execution_count": 34,
     "metadata": {},
     "output_type": "execute_result"
    }
   ],
   "source": [
    "# Part 1\n",
    "\n",
    "l1,l2 = np.asarray(digits).astype('int').T\n",
    "\n",
    "l1.sort()\n",
    "l2.sort()\n",
    "\n",
    "print( np.abs(l1-l2).sum() )\n"
   ]
  },
  {
   "cell_type": "code",
   "execution_count": 42,
   "metadata": {},
   "outputs": [
    {
     "data": {
      "text/plain": [
       "23927637"
      ]
     },
     "execution_count": 42,
     "metadata": {},
     "output_type": "execute_result"
    }
   ],
   "source": [
    "# Part 2\n",
    "\n",
    "similarity = 0\n",
    "\n",
    "for nr in l1:\n",
    "    similarity += nr * (l2==nr).sum()\n",
    "\n",
    "print( similarity )"
   ]
  }
 ],
 "metadata": {
  "kernelspec": {
   "display_name": "Python 3",
   "language": "python",
   "name": "python3"
  },
  "language_info": {
   "codemirror_mode": {
    "name": "ipython",
    "version": 3
   },
   "file_extension": ".py",
   "mimetype": "text/x-python",
   "name": "python",
   "nbconvert_exporter": "python",
   "pygments_lexer": "ipython3",
   "version": "3.12.0"
  }
 },
 "nbformat": 4,
 "nbformat_minor": 2
}
