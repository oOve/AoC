{
 "cells": [
  {
   "cell_type": "code",
   "execution_count": 1,
   "metadata": {},
   "outputs": [],
   "source": [
    "import pandas as pd\n",
    "import numpy as np\n",
    "import re\n",
    "from IPython.display import display_html, clear_output\n",
    "import time"
   ]
  },
  {
   "cell_type": "code",
   "execution_count": 2,
   "metadata": {},
   "outputs": [],
   "source": [
    "import aocd\n",
    "import os\n",
    "from functools import reduce\n",
    "\n",
    "session=open(\"secret.session\").read()\n",
    "os.environ[\"AOC_SESSION\"] = session\n",
    "data = aocd.get_data(day=8,year=2024)"
   ]
  },
  {
   "cell_type": "code",
   "execution_count": 9,
   "metadata": {},
   "outputs": [
    {
     "name": "stdout",
     "output_type": "stream",
     "text": [
      "............\n",
      "........0...\n",
      ".....0......\n",
      ".......0....\n",
      "....0.......\n",
      "......A.....\n",
      "............\n",
      "............\n",
      "........A...\n",
      ".........A..\n",
      "............\n",
      "............\n"
     ]
    }
   ],
   "source": [
    "test_data = '''\\\n",
    "............\n",
    "........0...\n",
    ".....0......\n",
    ".......0....\n",
    "....0.......\n",
    "......A.....\n",
    "............\n",
    "............\n",
    "........A...\n",
    ".........A..\n",
    "............\n",
    "............'''\n",
    "print(test_data)"
   ]
  },
  {
   "cell_type": "code",
   "execution_count": 14,
   "metadata": {},
   "outputs": [
    {
     "name": "stdout",
     "output_type": "stream",
     "text": [
      "(50, 50)\n",
      "['.' '0' '1' '2' '3' '4' '5' '6' '7' '8' '9' 'D' 'E' 'F' 'I' 'K' 'M' 'O'\n",
      " 'Q' 'R' 'S' 'T' 'U' 'W' 'X' 'Y' 'Z' 'd' 'e' 'f' 'i' 'k' 'm' 'o' 'q' 'r'\n",
      " 's' 't' 'u' 'w' 'x' 'y' 'z']\n"
     ]
    }
   ],
   "source": [
    "def parse(data):\n",
    "    return np.asarray([list(l) for l in data.splitlines()])\n",
    "\n",
    "td = parse(test_data)\n",
    "\n",
    "dt = parse(data)\n",
    "print(dt.shape)\n",
    "print(np.unique(dt))"
   ]
  },
  {
   "cell_type": "code",
   "execution_count": 34,
   "metadata": {},
   "outputs": [
    {
     "data": {
      "text/plain": [
       "240"
      ]
     },
     "execution_count": 34,
     "metadata": {},
     "output_type": "execute_result"
    }
   ],
   "source": [
    "# Part 1\n",
    "def in_bounds(ss,p):\n",
    "    return not ((p[0]<0) or (p[0]>=ss[0]) or (p[1]<0) or (p[1]>=ss[1]))\n",
    "\n",
    "\n",
    "def part1(dt):\n",
    "    antinodes = set()\n",
    "    ss = dt.shape\n",
    "\n",
    "    for freq in np.unique(dt):\n",
    "        if freq=='.': \n",
    "            continue        \n",
    "        x,y = np.where(dt==freq)\n",
    "\n",
    "        for u in range(0,len(x)-1):\n",
    "            for v in range(u+1, len(x)):\n",
    "                dx = x[v]-x[u]\n",
    "                dy = y[v]-y[u]\n",
    "\n",
    "                a1 = x[u]-dx, y[u]-dy\n",
    "                a2 = x[v]+dx, y[v]+dy\n",
    "\n",
    "                antinodes.add(a1)\n",
    "                antinodes.add(a2)\n",
    "    \n",
    "    return list(filter( lambda p: in_bounds(ss,p), antinodes ))\n",
    "\n",
    "anti = part1(parse(data))\n",
    "len(anti)"
   ]
  },
  {
   "cell_type": "code",
   "execution_count": 82,
   "metadata": {},
   "outputs": [
    {
     "data": {
      "text/plain": [
       "955"
      ]
     },
     "execution_count": 82,
     "metadata": {},
     "output_type": "execute_result"
    }
   ],
   "source": [
    "# Part 2\n",
    "\n",
    "from math import gcd\n",
    "\n",
    "\n",
    "def part2(dt):\n",
    "    antinodes = set()\n",
    "    ss = dt.shape\n",
    "\n",
    "    for freq in np.unique(dt):\n",
    "        if freq=='.': \n",
    "            continue        \n",
    "        x,y = np.where(dt==freq)\n",
    "\n",
    "        for u in range(0,len(x)-1):\n",
    "            for v in range(u+1, len(x)):\n",
    "                dx = x[v]-x[u]\n",
    "                dy = y[v]-y[u]\n",
    "\n",
    "                common_divisor = gcd(dx,dy)\n",
    "\n",
    "                v = np.asarray([dx /common_divisor, dy / common_divisor])\n",
    "                p = np.asarray([x[u],y[u]])\n",
    "\n",
    "                i = 0\n",
    "                pt = p\n",
    "                while in_bounds(ss,pt): # Negative direction\n",
    "                    pt = p - i*v\n",
    "                    i += 1\n",
    "                    antinodes.add(tuple(pt))                    \n",
    "                i=0\n",
    "                pt=p\n",
    "                while in_bounds(ss,pt):  # Positive direction\n",
    "                    pt = p + i*v \n",
    "                    i += 1\n",
    "                    antinodes.add(tuple(pt))                    \n",
    "\n",
    "    \n",
    "    return list(filter( lambda p: in_bounds(ss,p), antinodes ))\n",
    "\n",
    "\n",
    "anti = part2(parse(data))\n",
    "len(anti)\n",
    "\n"
   ]
  },
  {
   "cell_type": "code",
   "execution_count": null,
   "metadata": {},
   "outputs": [],
   "source": []
  }
 ],
 "metadata": {
  "kernelspec": {
   "display_name": "Python 3",
   "language": "python",
   "name": "python3"
  },
  "language_info": {
   "codemirror_mode": {
    "name": "ipython",
    "version": 3
   },
   "file_extension": ".py",
   "mimetype": "text/x-python",
   "name": "python",
   "nbconvert_exporter": "python",
   "pygments_lexer": "ipython3",
   "version": "3.12.0"
  }
 },
 "nbformat": 4,
 "nbformat_minor": 2
}
